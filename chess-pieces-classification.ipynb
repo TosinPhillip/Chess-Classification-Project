{
 "cells": [
  {
   "cell_type": "markdown",
   "id": "23e89082",
   "metadata": {
    "papermill": {
     "duration": 0.008797,
     "end_time": "2023-09-05T11:44:06.322810",
     "exception": false,
     "start_time": "2023-09-05T11:44:06.314013",
     "status": "completed"
    },
    "tags": []
   },
   "source": [
    "## Fastai and Pytorch model built from scratch\n",
    "\n",
    "This notebook shows image classification using fastai without usg pretrained model"
   ]
  },
  {
   "cell_type": "markdown",
   "id": "0fe33d85",
   "metadata": {
    "papermill": {
     "duration": 0.008497,
     "end_time": "2023-09-05T11:44:06.339756",
     "exception": false,
     "start_time": "2023-09-05T11:44:06.331259",
     "status": "completed"
    },
    "tags": []
   },
   "source": [
    "First, import everything needed."
   ]
  },
  {
   "cell_type": "code",
   "execution_count": 1,
   "id": "97076c01",
   "metadata": {
    "execution": {
     "iopub.execute_input": "2023-09-05T11:44:06.358366Z",
     "iopub.status.busy": "2023-09-05T11:44:06.357609Z",
     "iopub.status.idle": "2023-09-05T11:44:12.686829Z",
     "shell.execute_reply": "2023-09-05T11:44:12.685622Z"
    },
    "papermill": {
     "duration": 6.342171,
     "end_time": "2023-09-05T11:44:12.690125",
     "exception": false,
     "start_time": "2023-09-05T11:44:06.347954",
     "status": "completed"
    },
    "tags": []
   },
   "outputs": [
    {
     "name": "stderr",
     "output_type": "stream",
     "text": [
      "/opt/conda/lib/python3.10/site-packages/scipy/__init__.py:146: UserWarning: A NumPy version >=1.16.5 and <1.23.0 is required for this version of SciPy (detected version 1.23.5\n",
      "  warnings.warn(f\"A NumPy version >={np_minversion} and <{np_maxversion}\"\n"
     ]
    }
   ],
   "source": [
    "# Python imports\n",
    "import PIL.Image as Image\n",
    "import os\n",
    "import gc\n",
    "import glob\n",
    "import pandas as pd\n",
    "import numpy as np\n",
    "\n",
    "# PyTorch imports\n",
    "import torch\n",
    "import torch.nn as nn\n",
    "import torch.functional as F\n",
    "from torch.utils.data import DataLoader, Dataset, Subset, random_split\n",
    "from torchvision import transforms\n",
    "import torch.optim as optim\n",
    "\n",
    "\n",
    "\n",
    "# fastai imports\n",
    "from fastai.vision.all import *"
   ]
  },
  {
   "cell_type": "code",
   "execution_count": 2,
   "id": "72fd5bfa",
   "metadata": {
    "execution": {
     "iopub.execute_input": "2023-09-05T11:44:12.723871Z",
     "iopub.status.busy": "2023-09-05T11:44:12.723504Z",
     "iopub.status.idle": "2023-09-05T11:44:12.931636Z",
     "shell.execute_reply": "2023-09-05T11:44:12.930651Z"
    },
    "papermill": {
     "duration": 0.229963,
     "end_time": "2023-09-05T11:44:12.933695",
     "exception": false,
     "start_time": "2023-09-05T11:44:12.703732",
     "status": "completed"
    },
    "tags": []
   },
   "outputs": [
    {
     "data": {
      "text/plain": [
       "46"
      ]
     },
     "execution_count": 2,
     "metadata": {},
     "output_type": "execute_result"
    }
   ],
   "source": [
    "gc.collect()"
   ]
  },
  {
   "cell_type": "markdown",
   "id": "9f44f491",
   "metadata": {
    "papermill": {
     "duration": 0.008018,
     "end_time": "2023-09-05T11:44:12.950459",
     "exception": false,
     "start_time": "2023-09-05T11:44:12.942441",
     "status": "completed"
    },
    "tags": []
   },
   "source": [
    "What is the size of our images?"
   ]
  },
  {
   "cell_type": "code",
   "execution_count": 3,
   "id": "7264bb34",
   "metadata": {
    "execution": {
     "iopub.execute_input": "2023-09-05T11:44:12.969625Z",
     "iopub.status.busy": "2023-09-05T11:44:12.968049Z",
     "iopub.status.idle": "2023-09-05T11:44:12.973503Z",
     "shell.execute_reply": "2023-09-05T11:44:12.972640Z"
    },
    "papermill": {
     "duration": 0.017046,
     "end_time": "2023-09-05T11:44:12.975595",
     "exception": false,
     "start_time": "2023-09-05T11:44:12.958549",
     "status": "completed"
    },
    "tags": []
   },
   "outputs": [],
   "source": [
    "folder_path = r'/kaggle/input/chess-pieces/all_resized_into_sub_folders_640'"
   ]
  },
  {
   "cell_type": "code",
   "execution_count": 4,
   "id": "1c0832c0",
   "metadata": {
    "execution": {
     "iopub.execute_input": "2023-09-05T11:44:12.994335Z",
     "iopub.status.busy": "2023-09-05T11:44:12.993494Z",
     "iopub.status.idle": "2023-09-05T11:44:14.824212Z",
     "shell.execute_reply": "2023-09-05T11:44:14.823217Z"
    },
    "papermill": {
     "duration": 1.842796,
     "end_time": "2023-09-05T11:44:14.826514",
     "exception": false,
     "start_time": "2023-09-05T11:44:12.983718",
     "status": "completed"
    },
    "tags": []
   },
   "outputs": [
    {
     "name": "stdout",
     "output_type": "stream",
     "text": [
      "[640]\n"
     ]
    }
   ],
   "source": [
    "pattern = folder_path + r'/*/*.jpg'\n",
    "\n",
    "image_path_list = glob.glob(pattern)\n",
    "\n",
    "\n",
    "# write an check code to confirm that all images in all folders have size (640,640)\n",
    "image_size_list = []\n",
    "for image_path in image_path_list:\n",
    "    size = Image.open(image_path).size\n",
    "    image_size_list.append(size) \n",
    "\n",
    "print(np.unique(np.array(image_size_list)))"
   ]
  },
  {
   "cell_type": "markdown",
   "id": "d785e956",
   "metadata": {
    "papermill": {
     "duration": 0.008402,
     "end_time": "2023-09-05T11:44:14.843708",
     "exception": false,
     "start_time": "2023-09-05T11:44:14.835306",
     "status": "completed"
    },
    "tags": []
   },
   "source": [
    "### Fastai first"
   ]
  },
  {
   "cell_type": "markdown",
   "id": "745cf3fa",
   "metadata": {
    "papermill": {
     "duration": 0.008161,
     "end_time": "2023-09-05T11:44:14.860291",
     "exception": false,
     "start_time": "2023-09-05T11:44:14.852130",
     "status": "completed"
    },
    "tags": []
   },
   "source": [
    "Now let's build our Datablock"
   ]
  },
  {
   "cell_type": "code",
   "execution_count": 5,
   "id": "0e175649",
   "metadata": {
    "execution": {
     "iopub.execute_input": "2023-09-05T11:44:14.879936Z",
     "iopub.status.busy": "2023-09-05T11:44:14.878058Z",
     "iopub.status.idle": "2023-09-05T11:44:14.888461Z",
     "shell.execute_reply": "2023-09-05T11:44:14.887434Z"
    },
    "papermill": {
     "duration": 0.021979,
     "end_time": "2023-09-05T11:44:14.890588",
     "exception": false,
     "start_time": "2023-09-05T11:44:14.868609",
     "status": "completed"
    },
    "tags": []
   },
   "outputs": [],
   "source": [
    "chess_datablock = DataBlock(blocks=(ImageBlock(), CategoryBlock()),\n",
    "                      get_items=get_image_files,\n",
    "                      get_y=parent_label,\n",
    "                      splitter=RandomSplitter(seed=900),\n",
    "                      item_tfms=Resize(100),\n",
    "                      batch_tfms=aug_transforms(pad_mode='zeros', flip_vert=True, max_lighting=0.5 )\n",
    "                        )\n",
    "\n"
   ]
  },
  {
   "cell_type": "code",
   "execution_count": 6,
   "id": "7ea3f031",
   "metadata": {
    "execution": {
     "iopub.execute_input": "2023-09-05T11:44:14.908804Z",
     "iopub.status.busy": "2023-09-05T11:44:14.908461Z",
     "iopub.status.idle": "2023-09-05T11:44:22.433586Z",
     "shell.execute_reply": "2023-09-05T11:44:22.432641Z"
    },
    "papermill": {
     "duration": 7.537883,
     "end_time": "2023-09-05T11:44:22.436882",
     "exception": false,
     "start_time": "2023-09-05T11:44:14.898999",
     "status": "completed"
    },
    "tags": []
   },
   "outputs": [
    {
     "data": {
      "image/png": "[encoded data removed]",
      "text/plain": [
       "<Figure size 900x300 with 3 Axes>"
      ]
     },
     "metadata": {},
     "output_type": "display_data"
    }
   ],
   "source": [
    "chess_dls = chess_datablock.dataloaders(folder_path, bs=2)\n",
    "chess_dls.show_batch(nrows=1, ncols=3\n",
    "                     )"
   ]
  },
  {
   "cell_type": "code",
   "execution_count": 7,
   "id": "e3d3b96f",
   "metadata": {
    "execution": {
     "iopub.execute_input": "2023-09-05T11:44:22.465545Z",
     "iopub.status.busy": "2023-09-05T11:44:22.465210Z",
     "iopub.status.idle": "2023-09-05T11:44:22.677967Z",
     "shell.execute_reply": "2023-09-05T11:44:22.676689Z"
    },
    "papermill": {
     "duration": 0.230768,
     "end_time": "2023-09-05T11:44:22.681551",
     "exception": false,
     "start_time": "2023-09-05T11:44:22.450783",
     "status": "completed"
    },
    "tags": []
   },
   "outputs": [],
   "source": [
    "learn_resnet = Learner(chess_dls, models.resnet18(weights=None), loss_func=F.cross_entropy, metrics=accuracy).to_fp16()"
   ]
  },
  {
   "cell_type": "code",
   "execution_count": 8,
   "id": "d091f48e",
   "metadata": {
    "execution": {
     "iopub.execute_input": "2023-09-05T11:44:22.717436Z",
     "iopub.status.busy": "2023-09-05T11:44:22.717074Z",
     "iopub.status.idle": "2023-09-05T11:44:32.776470Z",
     "shell.execute_reply": "2023-09-05T11:44:32.775427Z"
    },
    "papermill": {
     "duration": 10.081442,
     "end_time": "2023-09-05T11:44:32.778746",
     "exception": false,
     "start_time": "2023-09-05T11:44:22.697304",
     "status": "completed"
    },
    "tags": []
   },
   "outputs": [
    {
     "data": {
      "text/html": [
       "\n",
       "<style>\n",
       "    /* Turns off some styling */\n",
       "    progress {\n",
       "        /* gets rid of default border in Firefox and Opera. */\n",
       "        border: none;\n",
       "        /* Needs to be in here for Safari polyfill so background images work as expected. */\n",
       "        background-size: auto;\n",
       "    }\n",
       "    progress:not([value]), progress:not([value])::-webkit-progress-bar {\n",
       "        background: repeating-linear-gradient(45deg, #7e7e7e, #7e7e7e 10px, #5c5c5c 10px, #5c5c5c 20px);\n",
       "    }\n",
       "    .progress-bar-interrupted, .progress-bar-interrupted::-webkit-progress-bar {\n",
       "        background: #F44336;\n",
       "    }\n",
       "</style>\n"
      ],
      "text/plain": [
       "<IPython.core.display.HTML object>"
      ]
     },
     "metadata": {},
     "output_type": "display_data"
    },
    {
     "data": {
      "text/html": [],
      "text/plain": [
       "<IPython.core.display.HTML object>"
      ]
     },
     "metadata": {},
     "output_type": "display_data"
    },
    {
     "data": {
      "text/plain": [
       "SuggestedLRs(valley=0.0014454397605732083)"
      ]
     },
     "execution_count": 8,
     "metadata": {},
     "output_type": "execute_result"
    },
    {
     "data": {
      "image/png": "[encoded data removed]",
      "text/plain": [
       "<Figure size 640x480 with 1 Axes>"
      ]
     },
     "metadata": {},
     "output_type": "display_data"
    }
   ],
   "source": [
    "learn_resnet.lr_find()"
   ]
  },
  {
   "cell_type": "code",
   "execution_count": 9,
   "id": "41751038",
   "metadata": {
    "execution": {
     "iopub.execute_input": "2023-09-05T11:44:32.802579Z",
     "iopub.status.busy": "2023-09-05T11:44:32.801546Z",
     "iopub.status.idle": "2023-09-05T11:45:46.084163Z",
     "shell.execute_reply": "2023-09-05T11:45:46.083063Z"
    },
    "papermill": {
     "duration": 73.296872,
     "end_time": "2023-09-05T11:45:46.086371",
     "exception": false,
     "start_time": "2023-09-05T11:44:32.789499",
     "status": "completed"
    },
    "tags": []
   },
   "outputs": [
    {
     "data": {
      "text/html": [
       "\n",
       "<style>\n",
       "    /* Turns off some styling */\n",
       "    progress {\n",
       "        /* gets rid of default border in Firefox and Opera. */\n",
       "        border: none;\n",
       "        /* Needs to be in here for Safari polyfill so background images work as expected. */\n",
       "        background-size: auto;\n",
       "    }\n",
       "    progress:not([value]), progress:not([value])::-webkit-progress-bar {\n",
       "        background: repeating-linear-gradient(45deg, #7e7e7e, #7e7e7e 10px, #5c5c5c 10px, #5c5c5c 20px);\n",
       "    }\n",
       "    .progress-bar-interrupted, .progress-bar-interrupted::-webkit-progress-bar {\n",
       "        background: #F44336;\n",
       "    }\n",
       "</style>\n"
      ],
      "text/plain": [
       "<IPython.core.display.HTML object>"
      ]
     },
     "metadata": {},
     "output_type": "display_data"
    },
    {
     "data": {
      "text/html": [
       "<table border=\"1\" class=\"dataframe\">\n",
       "  <thead>\n",
       "    <tr style=\"text-align: left;\">\n",
       "      <th>epoch</th>\n",
       "      <th>train_loss</th>\n",
       "      <th>valid_loss</th>\n",
       "      <th>accuracy</th>\n",
       "      <th>time</th>\n",
       "    </tr>\n",
       "  </thead>\n",
       "  <tbody>\n",
       "    <tr>\n",
       "      <td>0</td>\n",
       "      <td>3.451163</td>\n",
       "      <td>2.941669</td>\n",
       "      <td>0.083333</td>\n",
       "      <td>00:07</td>\n",
       "    </tr>\n",
       "    <tr>\n",
       "      <td>1</td>\n",
       "      <td>2.793798</td>\n",
       "      <td>3.248711</td>\n",
       "      <td>0.066667</td>\n",
       "      <td>00:07</td>\n",
       "    </tr>\n",
       "    <tr>\n",
       "      <td>2</td>\n",
       "      <td>2.701243</td>\n",
       "      <td>3.343333</td>\n",
       "      <td>0.100000</td>\n",
       "      <td>00:07</td>\n",
       "    </tr>\n",
       "    <tr>\n",
       "      <td>3</td>\n",
       "      <td>2.592328</td>\n",
       "      <td>2.652237</td>\n",
       "      <td>0.016667</td>\n",
       "      <td>00:06</td>\n",
       "    </tr>\n",
       "    <tr>\n",
       "      <td>4</td>\n",
       "      <td>2.559317</td>\n",
       "      <td>2.614758</td>\n",
       "      <td>0.083333</td>\n",
       "      <td>00:07</td>\n",
       "    </tr>\n",
       "    <tr>\n",
       "      <td>5</td>\n",
       "      <td>2.536279</td>\n",
       "      <td>2.585127</td>\n",
       "      <td>0.066667</td>\n",
       "      <td>00:07</td>\n",
       "    </tr>\n",
       "    <tr>\n",
       "      <td>6</td>\n",
       "      <td>2.519783</td>\n",
       "      <td>2.565695</td>\n",
       "      <td>0.050000</td>\n",
       "      <td>00:07</td>\n",
       "    </tr>\n",
       "    <tr>\n",
       "      <td>7</td>\n",
       "      <td>2.516309</td>\n",
       "      <td>2.558391</td>\n",
       "      <td>0.016667</td>\n",
       "      <td>00:07</td>\n",
       "    </tr>\n",
       "    <tr>\n",
       "      <td>8</td>\n",
       "      <td>2.498341</td>\n",
       "      <td>2.549665</td>\n",
       "      <td>0.016667</td>\n",
       "      <td>00:07</td>\n",
       "    </tr>\n",
       "    <tr>\n",
       "      <td>9</td>\n",
       "      <td>2.491488</td>\n",
       "      <td>2.549091</td>\n",
       "      <td>0.016667</td>\n",
       "      <td>00:07</td>\n",
       "    </tr>\n",
       "  </tbody>\n",
       "</table>"
      ],
      "text/plain": [
       "<IPython.core.display.HTML object>"
      ]
     },
     "metadata": {},
     "output_type": "display_data"
    }
   ],
   "source": [
    "learn_resnet.fit_one_cycle(10, 0.1)"
   ]
  },
  {
   "cell_type": "code",
   "execution_count": 10,
   "id": "21b6ab28",
   "metadata": {
    "execution": {
     "iopub.execute_input": "2023-09-05T11:45:46.112026Z",
     "iopub.status.busy": "2023-09-05T11:45:46.110310Z",
     "iopub.status.idle": "2023-09-05T11:45:47.095181Z",
     "shell.execute_reply": "2023-09-05T11:45:47.094100Z"
    },
    "papermill": {
     "duration": 0.999701,
     "end_time": "2023-09-05T11:45:47.097566",
     "exception": false,
     "start_time": "2023-09-05T11:45:46.097865",
     "status": "completed"
    },
    "tags": []
   },
   "outputs": [
    {
     "data": {
      "text/html": [
       "\n",
       "<style>\n",
       "    /* Turns off some styling */\n",
       "    progress {\n",
       "        /* gets rid of default border in Firefox and Opera. */\n",
       "        border: none;\n",
       "        /* Needs to be in here for Safari polyfill so background images work as expected. */\n",
       "        background-size: auto;\n",
       "    }\n",
       "    progress:not([value]), progress:not([value])::-webkit-progress-bar {\n",
       "        background: repeating-linear-gradient(45deg, #7e7e7e, #7e7e7e 10px, #5c5c5c 10px, #5c5c5c 20px);\n",
       "    }\n",
       "    .progress-bar-interrupted, .progress-bar-interrupted::-webkit-progress-bar {\n",
       "        background: #F44336;\n",
       "    }\n",
       "</style>\n"
      ],
      "text/plain": [
       "<IPython.core.display.HTML object>"
      ]
     },
     "metadata": {},
     "output_type": "display_data"
    },
    {
     "data": {
      "text/html": [],
      "text/plain": [
       "<IPython.core.display.HTML object>"
      ]
     },
     "metadata": {},
     "output_type": "display_data"
    }
   ],
   "source": [
    "interp_resnet = ClassificationInterpretation.from_learner(learn_resnet)"
   ]
  },
  {
   "cell_type": "markdown",
   "id": "261616b0",
   "metadata": {
    "papermill": {
     "duration": 0.011036,
     "end_time": "2023-09-05T11:45:47.120406",
     "exception": false,
     "start_time": "2023-09-05T11:45:47.109370",
     "status": "completed"
    },
    "tags": []
   },
   "source": [
    "The inaccuracy in this model is definitely from the resnet head, something is wrong there. Find it out."
   ]
  },
  {
   "cell_type": "markdown",
   "id": "df310099",
   "metadata": {
    "papermill": {
     "duration": 0.010985,
     "end_time": "2023-09-05T11:45:47.142436",
     "exception": false,
     "start_time": "2023-09-05T11:45:47.131451",
     "status": "completed"
    },
    "tags": []
   },
   "source": [
    "### Pytorch next"
   ]
  },
  {
   "cell_type": "code",
   "execution_count": 11,
   "id": "6b436236",
   "metadata": {
    "execution": {
     "iopub.execute_input": "2023-09-05T11:45:47.167163Z",
     "iopub.status.busy": "2023-09-05T11:45:47.166783Z",
     "iopub.status.idle": "2023-09-05T11:45:47.185601Z",
     "shell.execute_reply": "2023-09-05T11:45:47.184713Z"
    },
    "papermill": {
     "duration": 0.033696,
     "end_time": "2023-09-05T11:45:47.187689",
     "exception": false,
     "start_time": "2023-09-05T11:45:47.153993",
     "status": "completed"
    },
    "tags": []
   },
   "outputs": [],
   "source": [
    "\n",
    "# Define a custom dataset class\n",
    "class CustomImageDataset(Dataset):\n",
    "    def __init__(self, data_dir, transform=None):\n",
    "        self.data_dir = data_dir\n",
    "        self.transform = transform\n",
    "        self.file_list = os.listdir(data_dir)\n",
    "        self.pattern = self.data_dir + r'/*/*.jpg'\n",
    "        self.image_list = glob.glob(self.pattern)\n",
    "        \n",
    "        \n",
    "    def __len__(self):\n",
    "        return len(self.image_list)\n",
    "    \n",
    "    def __getitem__(self, idx):\n",
    "        img_name = self.image_list[idx]\n",
    "        image = Image.open(img_name)\n",
    "        \n",
    "        \n",
    "        \n",
    "        \n",
    "        if self.transform:\n",
    "            image = self.transform(image)\n",
    "        \n",
    "        # Extract the label from the filename or directory structure\n",
    "        # For example, if your data is organized like \"class1/image.jpg\"\n",
    "        label = self.file_list.index(os.path.basename(os.path.dirname(img_name)))\n",
    "        \n",
    "        return image, label\n",
    "\n",
    "# Define data transformations (adjust as needed)\n",
    "data_transform = transforms.Compose([\n",
    "    transforms.Resize((100, 100)),  # Resize images to 100x100 pixels\n",
    "    transforms.ToTensor(),           # Convert to tensor\n",
    "    transforms.Normalize(mean=[0.485, 0.456, 0.406], std=[0.229, 0.224, 0.225])  # Normalize if necessary\n",
    "])\n",
    "\n",
    "# Create an instance of the custom dataset\n",
    "data_dir = folder_path\n",
    "custom_dataset = CustomImageDataset(data_dir, transform=data_transform)\n",
    "\n",
    "# Create a data loader for batching and shuffling\n",
    "batch_size = 32\n",
    "\n",
    "\n"
   ]
  },
  {
   "cell_type": "code",
   "execution_count": 12,
   "id": "c6642c6a",
   "metadata": {
    "execution": {
     "iopub.execute_input": "2023-09-05T11:45:47.212345Z",
     "iopub.status.busy": "2023-09-05T11:45:47.211499Z",
     "iopub.status.idle": "2023-09-05T11:45:47.217687Z",
     "shell.execute_reply": "2023-09-05T11:45:47.216811Z"
    },
    "papermill": {
     "duration": 0.020341,
     "end_time": "2023-09-05T11:45:47.219604",
     "exception": false,
     "start_time": "2023-09-05T11:45:47.199263",
     "status": "completed"
    },
    "tags": []
   },
   "outputs": [],
   "source": [
    "validation_size = int(0.2 * len(custom_dataset))\n",
    "train_dataset, val_dataset = random_split(custom_dataset, [len(custom_dataset) - validation_size, validation_size])"
   ]
  },
  {
   "cell_type": "code",
   "execution_count": 13,
   "id": "3f885b02",
   "metadata": {
    "execution": {
     "iopub.execute_input": "2023-09-05T11:45:47.243428Z",
     "iopub.status.busy": "2023-09-05T11:45:47.243089Z",
     "iopub.status.idle": "2023-09-05T11:45:47.248267Z",
     "shell.execute_reply": "2023-09-05T11:45:47.247341Z"
    },
    "papermill": {
     "duration": 0.019586,
     "end_time": "2023-09-05T11:45:47.250360",
     "exception": false,
     "start_time": "2023-09-05T11:45:47.230774",
     "status": "completed"
    },
    "tags": []
   },
   "outputs": [],
   "source": [
    "train_dataloader = DataLoader(train_dataset, batch_size=batch_size, shuffle=True)\n",
    "val_dataloader = DataLoader(val_dataset, batch_size=batch_size, shuffle=True)"
   ]
  },
  {
   "cell_type": "markdown",
   "id": "dc082ac9",
   "metadata": {
    "papermill": {
     "duration": 0.011018,
     "end_time": "2023-09-05T11:45:47.272530",
     "exception": false,
     "start_time": "2023-09-05T11:45:47.261512",
     "status": "completed"
    },
    "tags": []
   },
   "source": [
    "Let's build the CNN model using torch"
   ]
  },
  {
   "cell_type": "code",
   "execution_count": 14,
   "id": "5313ef6a",
   "metadata": {
    "execution": {
     "iopub.execute_input": "2023-09-05T11:45:47.297084Z",
     "iopub.status.busy": "2023-09-05T11:45:47.296731Z",
     "iopub.status.idle": "2023-09-05T11:45:47.399039Z",
     "shell.execute_reply": "2023-09-05T11:45:47.397981Z"
    },
    "papermill": {
     "duration": 0.117247,
     "end_time": "2023-09-05T11:45:47.401425",
     "exception": false,
     "start_time": "2023-09-05T11:45:47.284178",
     "status": "completed"
    },
    "tags": []
   },
   "outputs": [],
   "source": [
    "\n",
    "class DeepCNN(nn.Module):\n",
    "    def __init__(self, num_classes):\n",
    "        super(DeepCNN, self).__init__()\n",
    "        \n",
    "        # Feature extractor layers\n",
    "        self.features = nn.Sequential(\n",
    "            nn.Conv2d(in_channels=3, out_channels=64, kernel_size=3, padding=1),\n",
    "            nn.ReLU(),\n",
    "            nn.BatchNorm2d(64),\n",
    "            nn.MaxPool2d(kernel_size=2, stride=2),\n",
    "            \n",
    "            nn.Conv2d(in_channels=64, out_channels=128, kernel_size=3, padding=1),\n",
    "            nn.ReLU(),\n",
    "            nn.BatchNorm2d(128),\n",
    "            nn.MaxPool2d(kernel_size=2, stride=2),\n",
    "            \n",
    "            nn.Conv2d(in_channels=128, out_channels=256, kernel_size=3, padding=1),\n",
    "            nn.ReLU(),\n",
    "            nn.BatchNorm2d(256),\n",
    "            nn.MaxPool2d(kernel_size=2, stride=2),\n",
    "            \n",
    "            nn.Conv2d(in_channels=256, out_channels=512, kernel_size=3, padding=1),\n",
    "            nn.ReLU(),\n",
    "            nn.BatchNorm2d(512),\n",
    "            nn.MaxPool2d(kernel_size=2, stride=2)\n",
    "        )\n",
    "        \n",
    "        # Classifier layers\n",
    "        self.classifier = nn.Sequential(\n",
    "            nn.Flatten(),\n",
    "            nn.Linear(512 * 6 * 6, 512),  # Adjust input size based on 100x100 input images\n",
    "            nn.ReLU(),\n",
    "            nn.Dropout(p=0.5),\n",
    "            nn.Linear(512, num_classes)\n",
    "        )\n",
    "\n",
    "    def forward(self, x):\n",
    "        x = self.features(x)\n",
    "        x = self.classifier(x)\n",
    "        return x\n",
    "\n",
    "# Instantiate the model for 12 classes\n",
    "num_classes = 12\n",
    "model = DeepCNN(num_classes)\n"
   ]
  },
  {
   "cell_type": "markdown",
   "id": "4dc1d275",
   "metadata": {
    "papermill": {
     "duration": 0.011392,
     "end_time": "2023-09-05T11:45:47.424337",
     "exception": false,
     "start_time": "2023-09-05T11:45:47.412945",
     "status": "completed"
    },
    "tags": []
   },
   "source": [
    "...training"
   ]
  },
  {
   "cell_type": "code",
   "execution_count": 15,
   "id": "c7ca1042",
   "metadata": {
    "execution": {
     "iopub.execute_input": "2023-09-05T11:45:47.448412Z",
     "iopub.status.busy": "2023-09-05T11:45:47.448074Z",
     "iopub.status.idle": "2023-09-05T11:48:31.624459Z",
     "shell.execute_reply": "2023-09-05T11:48:31.623086Z"
    },
    "papermill": {
     "duration": 164.191119,
     "end_time": "2023-09-05T11:48:31.626816",
     "exception": false,
     "start_time": "2023-09-05T11:45:47.435697",
     "status": "completed"
    },
    "tags": []
   },
   "outputs": [
    {
     "name": "stdout",
     "output_type": "stream",
     "text": [
      "Epoch [1/10] - Loss: 8.7101\n",
      "Epoch [2/10] - Loss: 2.8022\n",
      "Epoch [3/10] - Loss: 1.3816\n",
      "Epoch [4/10] - Loss: 0.9003\n",
      "Epoch [5/10] - Loss: 0.7145\n",
      "Epoch [6/10] - Loss: 0.4348\n",
      "Epoch [7/10] - Loss: 0.5071\n",
      "Epoch [8/10] - Loss: 0.3696\n",
      "Epoch [9/10] - Loss: 0.3100\n",
      "Epoch [10/10] - Loss: 0.2626\n",
      "Training finished!\n",
      "Training Accuracy: 98.33%\n",
      "Val Accuracy: 63.33%\n"
     ]
    }
   ],
   "source": [
    "\n",
    "\n",
    "# Define your DeepCNN model\n",
    "num_classes = 12\n",
    "model = DeepCNN(num_classes)\n",
    "\n",
    "# Define your loss function and optimizer\n",
    "criterion = nn.CrossEntropyLoss()  # Cross-entropy loss for multi-class classification\n",
    "optimizer = optim.Adam(model.parameters(), lr=0.001)  # Adjust the learning rate as needed\n",
    "\n",
    "# Set the number of training epochs\n",
    "num_epochs = 10  # Adjust this as needed\n",
    "\n",
    "# Training loop\n",
    "for epoch in range(num_epochs):\n",
    "    model.train()  # Set the model to training mode\n",
    "    \n",
    "    running_loss = 0.0\n",
    "    \n",
    "    # Iterate through your data loader (replace 'train_loader' with your actual data loader)\n",
    "    for inputs, labels in train_dataloader:\n",
    "        # Zero the parameter gradients\n",
    "        optimizer.zero_grad()\n",
    "        \n",
    "        # Forward pass\n",
    "        outputs = model(inputs)\n",
    "        \n",
    "        # Calculate the loss\n",
    "        loss = criterion(outputs, labels)\n",
    "        \n",
    "        # Backpropagation and optimization\n",
    "        loss.backward()\n",
    "        optimizer.step()\n",
    "        \n",
    "        running_loss += loss.item()\n",
    "    \n",
    "    # Calculate the average loss for the epoch\n",
    "    epoch_loss = running_loss / len(train_dataloader)\n",
    "    print(f\"Epoch [{epoch + 1}/{num_epochs}] - Loss: {epoch_loss:.4f}\")\n",
    "\n",
    "print(\"Training finished!\")\n",
    "\n",
    "# After training, you can evaluate the model on your validation/test dataset\n",
    "model.eval()  # Set the model to evaluation mode\n",
    "\n",
    "# Evaluation loop (similar to training loop but without backward pass)\n",
    "with torch.no_grad():\n",
    "    correct = 0\n",
    "    total = 0\n",
    "    \n",
    "    for inputs, labels in train_dataloader:  # Replace 'validation_loader' with your data loader\n",
    "        outputs = model(inputs)\n",
    "        _, predicted = torch.max(outputs.data, 1)\n",
    "        total += labels.size(0)\n",
    "        correct += (predicted == labels).sum().item()\n",
    "\n",
    "    accuracy = correct / total\n",
    "    print(f\"Training Accuracy: {accuracy * 100:.2f}%\")\n",
    "\n",
    "with torch.no_grad():\n",
    "    correct = 0\n",
    "    total = 0\n",
    "    \n",
    "    for inputs, labels in val_dataloader:  # Replace 'validation_loader' with your data loader\n",
    "        outputs = model(inputs)\n",
    "        _, predicted = torch.max(outputs.data, 1)\n",
    "        total += labels.size(0)\n",
    "        correct += (predicted == labels).sum().item()\n",
    "\n",
    "    accuracy = correct / total\n",
    "    print(f\"Val Accuracy: {accuracy * 100:.2f}%\")\n"
   ]
  },
  {
   "cell_type": "markdown",
   "id": "f193ee8e",
   "metadata": {
    "papermill": {
     "duration": 0.011843,
     "end_time": "2023-09-05T11:48:31.650844",
     "exception": false,
     "start_time": "2023-09-05T11:48:31.639001",
     "status": "completed"
    },
    "tags": []
   },
   "source": [
    "Clearly overfitting. This is well expected. The background was the same for them all."
   ]
  },
  {
   "cell_type": "code",
   "execution_count": 16,
   "id": "f8dd432e",
   "metadata": {
    "execution": {
     "iopub.execute_input": "2023-09-05T11:48:31.676471Z",
     "iopub.status.busy": "2023-09-05T11:48:31.675562Z",
     "iopub.status.idle": "2023-09-05T11:48:31.721670Z",
     "shell.execute_reply": "2023-09-05T11:48:31.720462Z"
    },
    "papermill": {
     "duration": 0.061322,
     "end_time": "2023-09-05T11:48:31.723929",
     "exception": false,
     "start_time": "2023-09-05T11:48:31.662607",
     "status": "completed"
    },
    "tags": []
   },
   "outputs": [
    {
     "name": "stdout",
     "output_type": "stream",
     "text": [
      "Predicted class index: 10\n",
      "Class probabilities: tensor([[1.1664e-03, 6.5801e-07, 1.1491e-06, 1.2076e-01, 2.9388e-04, 1.1067e-02,\n",
      "         3.3308e-07, 4.6767e-05, 3.0431e-07, 4.5504e-07, 8.6667e-01, 1.1542e-07]])\n",
      "Class: Black king\n"
     ]
    }
   ],
   "source": [
    "# Define your data preprocessing transformations\n",
    "data_transform = transforms.Compose([\n",
    "    transforms.Resize((100, 100)),  # Resize to match the model's input size\n",
    "    transforms.ToTensor(),           # Convert to tensor\n",
    "    transforms.Normalize(mean=[0.485, 0.456, 0.406], std=[0.229, 0.224, 0.225])  # Normalize if necessary\n",
    "])\n",
    "\n",
    "# Load the input image you want to predict on\n",
    "image_path = '/kaggle/input/chess-pieces/all_resized_into_sub_folders_640/Black king/resized_1691059574807.jpg'  # Replace with the path to your image\n",
    "input_image = Image.open(image_path)\n",
    "input_tensor = data_transform(input_image)  # Apply data transformations\n",
    "\n",
    "# Ensure the model is in evaluation mode\n",
    "model.eval()\n",
    "\n",
    "# Perform the forward pass to get predictions\n",
    "with torch.no_grad():\n",
    "    input_tensor = input_tensor.unsqueeze(0)  # Add batch dimension (batch size of 1)\n",
    "    outputs = model(input_tensor)\n",
    "\n",
    "# If your model outputs class probabilities (e.g., for classification tasks), you can apply softmax\n",
    "# to get the class probabilities\n",
    "class_probabilities = torch.softmax(outputs, dim=1)\n",
    "\n",
    "# If your model outputs a single scalar value (e.g., for regression tasks), you can directly use the output\n",
    "# For example, if the model is a regression model predicting a single value 'output_value'\n",
    "# output_value = outputs.item()\n",
    "\n",
    "# If your model predicts class labels (e.g., for classification tasks), you can get the predicted class index\n",
    "predicted_class_index = torch.argmax(outputs, dim=1).item()\n",
    "\n",
    "# Print or use the predictions as needed\n",
    "print(\"Predicted class index:\", predicted_class_index)\n",
    "print(\"Class probabilities:\", class_probabilities)\n",
    "print('Class:', os.listdir(data_dir)[predicted_class_index])\n"
   ]
  }
 ],
 "kernelspec": {
  "display_name": "Python 3",
  "language": "python",
  "name": "python3"
 },
 "language_info": {
  "codemirror_mode": {
   "name": "ipython",
   "version": 3
  },
  "file_extension": ".py",
  "mimetype": "text/x-python",
  "name": "python",
  "nbconvert_exporter": "python",
  "pygments_lexer": "ipython3",
  "version": "3.6.4"
 },
 "metadata": {
  "kernelspec": {
   "display_name": "Python 3",
   "language": "python",
   "name": "python3"
  },
  "language_info": {
   "codemirror_mode": {
    "name": "ipython",
    "version": 3
   },
   "file_extension": ".py",
   "mimetype": "text/x-python",
   "name": "python",
   "nbconvert_exporter": "python",
   "pygments_lexer": "ipython3",
   "version": "3.10.12"
  },
  "papermill": {
   "default_parameters": {},
   "duration": 278.927132,
   "end_time": "2023-09-05T11:48:34.622073",
   "environment_variables": {},
   "exception": null,
   "input_path": "__notebook__.ipynb",
   "output_path": "__notebook__.ipynb",
   "parameters": {},
   "start_time": "2023-09-05T11:43:55.694941",
   "version": "2.4.0"
  }
 },
 "nbformat": 4,
 "nbformat_minor": 5
}
